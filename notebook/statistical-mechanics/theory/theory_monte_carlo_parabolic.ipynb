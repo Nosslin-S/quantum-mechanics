{
 "cells": [
  {
   "cell_type": "markdown",
   "id": "d0e88f5c-160d-49b3-9a12-f8b27d2f8ae3",
   "metadata": {},
   "source": [
    "# **Background Theory**: Monte Carlo Simulations to Sample the Canonical Distribution\n",
    "\n",
    "<i class=\"fa fa-book fa-2x\"></i><a href=\"../monte_carlo_parabolic.ipynb\" style=\"font-size: 20px\"> Go back to the interactive notebook</a>\n",
    "\n",
    "**Source code:** https://github.com/osscar-org/quantum-mechanics/blob/develop/notebook/band-theory/theory/theory_monte_carlo_parabolic.ipynb\n",
    "\n",
    "<hr style=\"height:1px;border:none;color:#cccccc;background-color:#cccccc;\" />"
   ]
  },
  {
   "cell_type": "markdown",
   "id": "cf3d7e32-40d7-4c45-ac95-624495ee011f",
   "metadata": {},
   "source": [
    "## **Introduction**\n",
    "\n",
    "Monte Carlo simulations are often used to sample the canonical distribution (at a given temperature), given a potential energy surface.  "
   ]
  },
  {
   "cell_type": "markdown",
   "id": "d17f5c2b-a6b4-475c-adac-24551685ebd0",
   "metadata": {},
   "source": [
    "## **Monte Carlo simulations and the Metropolis-Hastings algorithm**\n",
    "    \n",
    "The Metropolis-Hastings algorithm is one of the most popular sampling algorithms to generate a sequence of states.\n",
    "The sequence can be used to approximate the distribution and to calculate averages (e.g. the expected value of some observable at a given temperature).<br>\n",
    "\n",
    "The algorithm of the Metropolis-Hastings is initalized by choosing (e.g. randomly) an initial state $x_0$ at $t=0$.\n",
    "Then, at each iteration:\n",
    "<ol>    \n",
    "  <li>We generate a new state $x'$ from a random distribution. In our example, we will consider a two-dimensional space, and move by a random amount along each of the two coordinates, where the random amount will be within a range $[-\\eta, \\eta]$ where $\\eta$ is the \"max move size\" that you can tune in the simulation.</li>\n",
    "  <li>We compute the energy of the new state.</li>\n",
    "  <ol>\n",
    "    <li>If the new state is lower in energy than the previous one, we accept it: $x_{t+1} = x'$;</li>\n",
    "    <li>If the new state is higher in energy than the previous one, accept it with a probability $\\delta = e^{-(E_{new} - E_{old})/(k_B T)}$ (then $x_{t+1} = x'$) or reject it and store the old state ($x_{t+1} = x_t$);</li>\n",
    "    <li>In order to decide whether to accept or reject the state, we generate a random number $\\mu$ from a uniform distribution between [0, 1], and accept the move if $\\mu < \\delta$.</li>\n",
    "  </ol>\n",
    "  <li>We update the step index ($t \\rightarrow t+1$) and iterate until a given number of iterations is reached.</li>\n",
    "</ol>\n",
    "\n",
    "Note how we have two points in the algorithm where we generate random numbers: to generate a random move, and to decide whether to accept or reject a move with a given probability."
   ]
  },
  {
   "cell_type": "code",
   "execution_count": null,
   "id": "edc708da-2f11-4c67-849d-f3ba556dfcb3",
   "metadata": {},
   "outputs": [],
   "source": []
  }
 ],
 "metadata": {
  "kernelspec": {
   "display_name": "Python 3 (ipykernel)",
   "language": "python",
   "name": "python3"
  },
  "language_info": {
   "codemirror_mode": {
    "name": "ipython",
    "version": 3
   },
   "file_extension": ".py",
   "mimetype": "text/x-python",
   "name": "python",
   "nbconvert_exporter": "python",
   "pygments_lexer": "ipython3",
   "version": "3.8.8"
  }
 },
 "nbformat": 4,
 "nbformat_minor": 5
}
