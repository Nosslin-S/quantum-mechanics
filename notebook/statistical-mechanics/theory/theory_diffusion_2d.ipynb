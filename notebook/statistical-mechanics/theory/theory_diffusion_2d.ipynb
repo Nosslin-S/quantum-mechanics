{
 "cells": [
  {
   "cell_type": "markdown",
   "id": "d0e88f5c-160d-49b3-9a12-f8b27d2f8ae3",
   "metadata": {},
   "source": [
    "# **Background Theory**: Diffusion in 2D\n",
    "\n",
    "<i class=\"fa fa-book fa-2x\"></i><a href=\"../diffusion_2d.ipynb\" style=\"font-size: 20px\"> Go back to the interactive notebook</a>\n",
    "\n",
    "**Source code:** https://github.com/osscar-org/quantum-mechanics/blob/develop/notebook/band-theory/theory/theory_diffusion_2d.ipynb\n",
    "\n",
    "<hr style=\"height:1px;border:none;color:#cccccc;background-color:#cccccc;\" />"
   ]
  },
  {
   "cell_type": "markdown",
   "id": "cf3d7e32-40d7-4c45-ac95-624495ee011f",
   "metadata": {},
   "source": [
    "## **Introduction**\n",
    "\n",
    "Diffusion is one of the most common physical phenomena, which plays an important role in materials science. Diffusion is happening everywhere from a region of high concentration to a region of lower concentration. Gibbs free energy is the driving force of diffusion."
   ]
  },
  {
   "cell_type": "markdown",
   "id": "6a823458-ea22-4795-86dc-2f7415bf198c",
   "metadata": {},
   "source": [
    "## **Random walk**\n",
    "\n",
    "Random walk is mathematical concept describing a path composed of succession of random steps in certain space. A specific case of random walk is Brownian motion, which is a type of diffusion model. Although each step is random, we can study the path in a statistically standpoint thus creating a possibility to connect microscopic behavior with macroscopic observation.\n",
    "\n",
    "According to Fick's laws of diffusion, the mean squared displacement from Brownian motion is given by:\n",
    "$$\\text{MSD} = \\langle(x-x_0)^2 \\rangle = 2nDt \\quad (1)$$\n",
    "where $x_0$ is the reference position, n is the dimension of Brownian motion and D is the diffusion coefficient. The square root of MSD indicates how far the particle has drift away after time t, which is why we define $r_{\\text{std}}=\\sqrt{\\text{MSD}}$"
   ]
  },
  {
   "cell_type": "markdown",
   "id": "778a6a18-4364-4ccf-9f52-11169dd52a66",
   "metadata": {},
   "source": [
    "## **Normal distribution**\n",
    "\n",
    "Normal distribution or Gaussian distribution is a continuous probability distribution in real space. The density function is given by:\n",
    "\n",
    "$$f(x)=\\frac{1}{\\sigma \\sqrt{2 \\pi}} \\exp(-\\frac 1 2 (\\frac {x - \\mu}{\\sigma})) \\quad (2)$$\n",
    "\n",
    "where $\\sigma$ is the standard deviation of x and $\\mu$ is the mean.\n",
    "In the case of 1-D random walk, we have:\n",
    "$$\\mu = \\langle x \\rangle = Nl(2q - 1) \\quad (3)$$\n",
    "$$\\sigma^2 = 4Nl^2q(1-q) \\quad (4)$$\n",
    "where N is the number of total steps, l is the step size and q is the possibility of to go in positive or negative direction.\n",
    "From equation (3) and (4), we can define the standard distance for a random diffusion after step N for unbiased random walk (q = 0.5):\n",
    "$$d_{std} = \\sqrt{\\sigma^2 + \\mu^2} = l \\sqrt{N} \\quad (5)$$"
   ]
  },
  {
   "cell_type": "code",
   "execution_count": null,
   "id": "0f81aa55-6c44-4388-ae7a-1df6993dc10c",
   "metadata": {},
   "outputs": [],
   "source": []
  }
 ],
 "metadata": {
  "kernelspec": {
   "display_name": "Python 3 (ipykernel)",
   "language": "python",
   "name": "python3"
  },
  "language_info": {
   "codemirror_mode": {
    "name": "ipython",
    "version": 3
   },
   "file_extension": ".py",
   "mimetype": "text/x-python",
   "name": "python",
   "nbconvert_exporter": "python",
   "pygments_lexer": "ipython3",
   "version": "3.8.8"
  }
 },
 "nbformat": 4,
 "nbformat_minor": 5
}
