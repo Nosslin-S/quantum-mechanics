{
 "cells": [
  {
   "cell_type": "markdown",
   "id": "d0e88f5c-160d-49b3-9a12-f8b27d2f8ae3",
   "metadata": {},
   "source": [
    "# **Background Theory**: Monte Carlo Calculation of Pi\n",
    "\n",
    "<i class=\"fa fa-book fa-2x\"></i><a href=\"../monte_carlo_pi.ipynb\" style=\"font-size: 20px\"> Go back to the interactive notebook</a>\n",
    "\n",
    "**Source code:** https://github.com/osscar-org/quantum-mechanics/blob/develop/notebook/band-theory/theory/theory_monte_carlo_pi.ipynb\n",
    "\n",
    "<hr style=\"height:1px;border:none;color:#cccccc;background-color:#cccccc;\" />"
   ]
  },
  {
   "cell_type": "markdown",
   "id": "cf3d7e32-40d7-4c45-ac95-624495ee011f",
   "metadata": {},
   "source": [
    "## **Introduction**\n",
    "\n",
    "In methematics, Monte Carlo integration is a method to conduct numerical integration by using random numbers. This method is particularly useful for high-dimensional integration."
   ]
  },
  {
   "cell_type": "markdown",
   "id": "d60d5d98-e046-41e9-85fa-8251e9451cec",
   "metadata": {},
   "source": [
    "## **Monte Carlo integration**\n",
    "    \n",
    "The concept of Monte Carlo integartion is to evaluate the integral using random sampling.\n",
    "Basically, it can be done by samping N points independently. For a multidimensional\n",
    "definite integral:\n",
    "\n",
    "$$\\large I = \\int_\\Omega f(x)dx$$\n",
    "     \n",
    "where $\\Omega$ has volume in multidimensional as:\n",
    "    \n",
    "$$\\large V = \\int_\\Omega dx$$\n",
    "\n",
    "Then sampling points uniformly on $\\Omega$, which gives N uniform samples:\n",
    "\n",
    "$$\\large x_1, \\cdot \\cdot \\cdot, x_N \\in \\Omega$$\n",
    "    \n",
    "$I$ can be approximated by:\n",
    "    \n",
    "$$\\large I \\approx Q_N\\equiv V\\frac{1}{N}\\sum_{i=1}^{N}f(x_i) = V < f >$$\n",
    "\n",
    "A large number of sampling is needed to converge the value:\n",
    "  \n",
    "$$\\large \\lim_{N\\to \\infty} Q_N = I$$"
   ]
  },
  {
   "cell_type": "markdown",
   "id": "d742baf0-803f-4a99-a7f1-5a2608949b2f",
   "metadata": {},
   "source": [
    "## **Quasi-Monte Carlo integration**\n",
    "\n",
    "Unlike the regular Monte Carlo method using the pseudorandom number, \n",
    "the quasi-Monte Carlo method is using the low-discrepancy sequences.\n",
    "Otherwise, Monte Carlo and quasi-Monte Carlo methods are stated in a\n",
    "similar way.\n",
    "\n",
    "Low-discrepancy sequences are also called quasi-random numbers. \n",
    "The discrepancy of a sequence is a measure of its uniformity.\n",
    "Consider generating 25 random points on a 2D grid (5x5), pseudorandom\n",
    "number leads to cluster of points and low-discrepancy sequences fills\n",
    "each box with one point as shown in the figure below. Using\n",
    "low-discrepancy sequences leads to faster rate of convergence.\n",
    "Quasi-Monte Carlo has convergence rate as O(1/N). While the\n",
    "rate for the regular Monte Carlo method is O($N^{-0.5}$).\n",
    "\n",
    "<div class=\"container\" style=\"text-align: center; width: 500px;\">\n",
    "  <img src=\"images/random_numbers.png\" alt=\"Pseudorandom vs quasi-random numbers\" class=\"image\">\n",
    "  <div class=\"overlay\">Pseudorandom vs quasi-random numbers.</div>\n",
    "</div>"
   ]
  },
  {
   "cell_type": "markdown",
   "id": "cd69659b-ee34-4b04-be5b-30c6a2bb6dd4",
   "metadata": {},
   "source": [
    "## **Calculate of Pi value**\n",
    "\n",
    "In this notebook, we consider a simple Monte Carlo simulation\n",
    "to calculate the value of Pi. Suppose we have a square area. which\n",
    "the length of the edge is 1 metre. We can throw coins into the \n",
    "squre, which distrbutes randomly. We will have the relation as:\n",
    "\n",
    "$$\\large \\frac{Area\\ of\\ a\\ Quarter\\ Circle}{Area\\ of\\ a\\ Square} \\approx \n",
    "\\frac{Number\\ of\\ Coins\\ inside\\ the\\ Circle}{Total\\ Number\\ of\\ Coins}$$\n",
    "    \n",
    "Hence, the value of Pi can be estimated as:\n",
    "    \n",
    "$$\\large \\pi \\approx 4*\\frac{Number\\ of\\ Coins\\ inside\\ the\\ Circle}{Total\\ Number\\ of\\ Coins}$$"
   ]
  },
  {
   "cell_type": "code",
   "execution_count": null,
   "id": "740cebe4-77b3-4167-8874-41ccb6036cd4",
   "metadata": {},
   "outputs": [],
   "source": []
  }
 ],
 "metadata": {
  "kernelspec": {
   "display_name": "Python 3 (ipykernel)",
   "language": "python",
   "name": "python3"
  },
  "language_info": {
   "codemirror_mode": {
    "name": "ipython",
    "version": 3
   },
   "file_extension": ".py",
   "mimetype": "text/x-python",
   "name": "python",
   "nbconvert_exporter": "python",
   "pygments_lexer": "ipython3",
   "version": "3.8.8"
  }
 },
 "nbformat": 4,
 "nbformat_minor": 5
}
