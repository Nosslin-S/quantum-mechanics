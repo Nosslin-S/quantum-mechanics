{
 "cells": [
  {
   "cell_type": "markdown",
   "id": "d1040f84-5c1e-4999-b809-a0481837847c",
   "metadata": {},
   "source": [
    "# **Background Theory**: The electronic density of states\n",
    "\n",
    "<i class=\"fa fa-book fa-2x\"></i><a href=\"../density_of_states.ipynb\" style=\"font-size: 20px\"> Go back to the interactive notebook</a>\n",
    "\n",
    "**Source code:** https://github.com/osscar-org/quantum-mechanics/blob/develop/notebook/band-theory/theory/theory_density_of_states.ipynb\n",
    "\n",
    "<hr style=\"height:1px;border:none;color:#cccccc;background-color:#cccccc;\" />"
   ]
  },
  {
   "cell_type": "markdown",
   "id": "a2ce0a4f-c40c-4b8c-a696-8bdd070d2c07",
   "metadata": {},
   "source": [
    "## **Introduction**\n",
    "\n",
    "The density of states (DOS) gives a measure of the number of electronic states with values of energy in some interval around a reference value. To be more specific, given a value of electronic energy $E$, the density of states $D(E)$ is defined as $N(E)=D(E)\\delta E$ where $N(E)$ is the number of electronic states with energies falling in the interval $[E,E+\\delta E]$. In the accompanying interactive notebook, we present the density of states (DOS) of the three-dimensional free electron model. The free electron \n",
    "model is a simple way to describe the electrons in metal systems (see the [corresponding notebook](./theory/theory_free_electron.ipynb)). \n",
    "\n",
    "The Schrödinger\n",
    "equation of the free electron model can be solved analytically. Furthermore, we \n",
    "can obtain the analytical solution for the DOS of the free electron model. We\n",
    "demonstrate three different methods which can be employed to calculate the density of\n",
    "states (DOS). The methods are: the simple histogram method, Gaussian smearing, and linear tetrahedron interpolation (\"tetrahedra\" or LTI)."
   ]
  }
 ],
 "metadata": {
  "kernelspec": {
   "display_name": "Python 3 (ipykernel)",
   "language": "python",
   "name": "python3"
  },
  "language_info": {
   "codemirror_mode": {
    "name": "ipython",
    "version": 3
   },
   "file_extension": ".py",
   "mimetype": "text/x-python",
   "name": "python",
   "nbconvert_exporter": "python",
   "pygments_lexer": "ipython3",
   "version": "3.8.8"
  }
 },
 "nbformat": 4,
 "nbformat_minor": 5
}
