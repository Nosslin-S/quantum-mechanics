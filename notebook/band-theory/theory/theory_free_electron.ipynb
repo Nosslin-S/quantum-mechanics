{
 "cells": [
  {
   "cell_type": "markdown",
<<<<<<< HEAD
   "id": "d72543de-ca9d-4b40-889d-1c6dece891a0",
   "metadata": {},
   "source": [
    "# **Background Theory**: The free-electron model\n",
    "\n",
    "<i class=\"fa fa-book fa-2x\"></i><a href=\"../free_electron.ipynb\" style=\"font-size: 20px\"> Go back to the interactive notebook</a>\n",
    "\n",
    "**Source code:** https://github.com/osscar-org/quantum-mechanics/blob/master/notebook/band-theory/theory/theory_free_electron.ipynb\n",
=======
   "id": "bcbb6005-29f8-4135-9698-0c6061a42cc5",
   "metadata": {},
   "source": [
    "# **Background Theory**: Free-electron Bands in a Periodic Lattice\n",
    "\n",
    "<i class=\"fa fa-book fa-2x\"></i><a href=\"../1quantumwell.ipynb\" style=\"font-size: 20px\"> Go back to the interactive notebook</a>\n",
    "\n",
    "**Source code:** https://github.com/osscar-org/quantum-mechanics/blob/master/notebook/quantum-mechanics/theory/theory_free_electron.ipynb\n",
>>>>>>> osscar-org-develop
    "\n",
    "<hr style=\"height:1px;border:none;color:#cccccc;background-color:#cccccc;\" />"
   ]
  },
  {
   "cell_type": "markdown",
<<<<<<< HEAD
   "id": "823ed724-7b00-4dc5-9cf1-296675c83fad",
   "metadata": {},
   "source": [
    "## **Introduction**\n",
    "   \n",
    "Here, we employ the empty lattice approximation for the electrons in a periodic \n",
    "solid system.  Using it, we compute and plot the electronic band structure for three \n",
    "type of cells (simple cubic, FCC and BCC). We get the path for the band structure \n",
    "from the <a href=\"https://seekpath.readthedocs.io/en/latest/index.html\">seekpath</a>\n",
    "package. \n",
    "\n",
    "<details open>\n",
    "<summary style=\"font-size: 20px\">Empty lattice approximation</summary>\n",
=======
   "id": "ac0b26b4-d311-4890-a9c8-d00d386ad382",
   "metadata": {},
   "source": [
    "## **Introduction**\n",
    "\n",
    "Here, we employ the empty lattice approximation for the electrons in a periodic \n",
    "solid system.  It computes and plots the electronic band structure for three \n",
    "type of cells (simple cubic, FCC and BCC). We get the path of the band structure \n",
    "from the <a href=\"https://seekpath.readthedocs.io/en/latest/index.html\">seekpath</a>\n",
    "package. We demonstrate three different methods to calculate the corresponding \n",
    "density of states (DOS). These are the linear tetrahedron interpolation (LTI), \n",
    "simple histogram and Gaussian smearing methods."
   ]
  },
  {
   "cell_type": "markdown",
   "id": "5f72bb1c-6bcd-4046-bcaf-258bbdaac648",
   "metadata": {},
   "source": [
    "## **Empty lattice approximation**\n",
    "\n",
>>>>>>> osscar-org-develop
    "<p style=\"text-align: justify;font-size:15px\"> \n",
    "    In the empty lattice approximation, the electrons move \"freely\" in the \n",
    "    periodic potential. There is no electron-electron interaction. \n",
    "</p>\n",
    "    \n",
    "<p style=\"text-align: justify;font-size:15px\">\n",
    "    The eigenfunctions of the Schrödinger equation for free electrons are:\n",
    "</p>\n",
    "\n",
    "<p style=\"text-align: center;font-size:15px\">\n",
    "$\\large \\psi(\\vec{r}) = e^{i\\vec{k} \\vec{r}}$   \n",
    "</p>\n",
    "    \n",
    "<p style=\"text-align: justify;font-size:15px\">\n",
<<<<<<< HEAD
    "    When $\\vec{k'}$ lies outside the 1st Brillouin zone, the plane wave can be written as:\n",
=======
    "    When the $\\vec{k'}$ is outside the 1st Brillouin zone, the plane wave can be written as:\n",
>>>>>>> osscar-org-develop
    "</p>\n",
    "    \n",
    "<p style=\"text-align: center;font-size:15px\">\n",
    "$\\large \\psi(\\vec{r}) = e^{i\\vec{k} \\vec{r}}e^{i\\vec{G} \\vec{r}} = e^{i(\\vec{k}+\\vec{G})\\vec{r}}$   \n",
    "</p>\n",
    "    \n",
    "<p style=\"text-align: justify;font-size:15px\">\n",
<<<<<<< HEAD
    "    where, $\\vec{k}$ vector is inside the first Brillouin zone and $\\vec{G}$ is a reciprocal\n",
=======
    "    where, $\\vec{k}$ vector is inside the first brillouin zone and $\\vec{G}$ is the reciprocal\n",
>>>>>>> osscar-org-develop
    "    lattice vector. The dispersion is:\n",
    "</p>\n",
    "    \n",
    "<p style=\"text-align: center;font-size:15px\">\n",
    "    $\\large E = \\frac{\\hbar^2(\\vec{k}+\\vec{G})^2}{2m}$\n",
    "</p>\n",
    "\n",
    "    \n",
    "<p style=\"text-align: justify;font-size:15px\">\n",
    "    Please read more at the Wikipedia:\n",
    "    <a href=\"https://en.wikipedia.org/wiki/Empty_lattice_approximation#:~:text=The%20empty%20lattice%20approximation%20describes,the%20energy%20of%20free%20electrons\">Empty lattice approximation</a>\n",
<<<<<<< HEAD
    "</p>\n",
    "          \n",
    "</details>\n",
    "\n",
    "<details open>\n",
    "<summary style=\"font-size: 20px\">Electronic band structure</summary>\n",
    "<p style=\"text-align: justify;font-size:15px\">\n",
    "    In solid-state physics, the electronic band structure of \n",
    "    a solid characterizes the quantum-mechanical behavior of electrons.\n",
=======
    "</p>"
   ]
  },
  {
   "cell_type": "markdown",
   "id": "df0d4088-6569-46ad-a38e-402665c30c18",
   "metadata": {},
   "source": [
    "## **Electronic band structure**\n",
    "\n",
    "<p style=\"text-align: justify;font-size:15px\">\n",
    "    In the solid-state physics, the electronic band structure of \n",
    "    a solid describes the quantum-mechanical behavior of electrons.\n",
>>>>>>> osscar-org-develop
    "</p>\n",
    "\n",
    "<p style=\"text-align: justify;font-size:15px\"> \n",
    "    \"Band theory derives these bands and band gaps by examining the allowed quantum mechanical \n",
    "    wave functions for an electron in a large, periodic lattice of atoms or molecules. Band theory\n",
    "    has been successfully used to explain many physical properties of solids, such as electrical\n",
    "    resistivity and optical absorption, and forms the foundation of the understanding of all \n",
    "    solid-state devices (transistors, solar cells, etc.).\" - from Wikipedia.\n",
    "</p>\n",
    "  \n",
    "<image src=\"https://upload.wikimedia.org/wikipedia/commons/thumb/e/ef/Solid_state_electronic_band_structure.svg/880px-Solid_state_electronic_band_structure.svg.png\" width=\"500\"></image>\n",
    "    \n",
    "<p style=\"text-align: justify;font-size:15px\">\n",
    "    Molecular diagrams can present the discrete energy levels for the molecular systems. \n",
    "    In contrast, solid system always have a very large number of the orbitals. \n",
    "    It leads to the energy levels to close together. Hence, the energy levels in solid \n",
<<<<<<< HEAD
    "    are considered as continuous energy bands.\n",
=======
    "    are considered as continuum energy bands.\n",
>>>>>>> osscar-org-develop
    "</p>\n",
    "    \n",
    "<p style=\"text-align: justify;font-size:15px\"> \n",
    "    Since the wavevector is in three dimensions ($k_x$, $k_y$ and $k_z$), it is difficult to plot\n",
    "    the bands as a function of the wavevector (4 dimensional plotting). Usually, \n",
    "    the bands are plotted along the straight lines, which connects high symmetry points.\n",
    "</p>\n",
    "    \n",
<<<<<<< HEAD
    "<image src=\"https://upload.wikimedia.org/wikipedia/commons/thumb/c/c1/Brillouin_Zone_%281st%2C_FCC%29.svg/440px-Brillouin_Zone_%281st%2C_FCC%29.svg.png\" width=\"300\"></image>\n",
    "    \n",
    "</details>"
   ]
=======
    "<image src=\"https://upload.wikimedia.org/wikipedia/commons/thumb/c/c1/Brillouin_Zone_%281st%2C_FCC%29.svg/440px-Brillouin_Zone_%281st%2C_FCC%29.svg.png\" width=\"300\"></image>"
   ]
  },
  {
   "cell_type": "code",
   "execution_count": null,
   "id": "905e7772-0b5a-444c-bff7-f6a20c11144b",
   "metadata": {},
   "outputs": [],
   "source": []
>>>>>>> osscar-org-develop
  }
 ],
 "metadata": {
  "kernelspec": {
   "display_name": "Python 3 (ipykernel)",
   "language": "python",
   "name": "python3"
  },
  "language_info": {
   "codemirror_mode": {
    "name": "ipython",
    "version": 3
   },
   "file_extension": ".py",
   "mimetype": "text/x-python",
   "name": "python",
   "nbconvert_exporter": "python",
   "pygments_lexer": "ipython3",
   "version": "3.8.8"
  }
 },
 "nbformat": 4,
 "nbformat_minor": 5
}
