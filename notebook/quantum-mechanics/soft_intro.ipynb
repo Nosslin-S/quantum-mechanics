{
 "cells": [
  {
   "cell_type": "markdown",
   "metadata": {},
   "source": [
    "# **Numerical Solution of 1D Time Dependent Schrödinger Equation by Split Operator Fourier Transform (SOFT) Method**\n",
    "\n",
    "* [Go back to index](../index.ipynb)\n",
    "* [Go the simulation](./soft.ipynb)"
   ]
  },
  {
   "cell_type": "markdown",
   "metadata": {},
   "source": [
    "<hr style=\"height:1px;border:none;color:#cccccc;background-color:#cccccc;\" />\n",
    "\n",
    "## Introduction \n",
    "\n",
    "<p style=\"text-align: justify;font-size:15px\">  \n",
    "    In this notebook we will see a example of algorithms for solving the \n",
    "    quantum dynamical problem exactly. Let's consider a time-independent Hamiltonian and its \n",
    "    associated time-dependent Schrödinger equation for a system of one particle in one dimension.\n",
    "</p>\n",
    "\n",
    "$i\\hbar\\frac{d}{dt}|\\psi> = \\hat{H}|\\psi> \\quad \\text{where} \\quad \\hat{H} = \\frac{\\hat{P}^2}{2m} + E(\\hat{x})$\n",
    "\n",
    "<p style=\"text-align: justify;font-size:15px\">\n",
    "We know that this equation admits at least a formal solution of the kind\n",
    "$|\\psi(t)> = \\exp\\biggl[-\\frac{i}{\\hbar}\\hat{H}t\\biggr]|\\psi(0)>$\n",
    "that projected on the coordinate basis gives the (still formal) solution\n",
    "$\\psi(x_t,t) = \\int dx_0 K(x_t, t; x_0, 0)\\psi(x_0,0)$\n",
    "where $ K(x_t, t; x_0, 0)= < x_t|\\exp\\biggl[-\\frac{i}{\\hbar}\\hat{H}t\\biggr]|x_0 > $\n",
    "Note that $x_t$ and $x_0$ are just labels for the coordinates, as if we had $x$ and $x'$.\n",
    "</p>"
   ]
  },
  {
   "cell_type": "markdown",
   "metadata": {},
   "source": [
    "  \n",
    "$\\large k(x_t, x_0) =  < x_t|e^{-\\frac{i}{\\hbar}\\hat{H}t} | x_0 > = <x_{N+1} | \\underbrace{e^{-\\frac{i}{\\hbar}t/N} e^{-\\frac{i}{\\hbar}t/N} ... e^{-\\frac{i}{\\hbar}t/N}}_\\textrm{N} |x_0 >$\n"
   ]
  },
  {
   "cell_type": "markdown",
   "metadata": {},
   "source": [
    "<p style=\"text-align: justify;font-size:15px\">  \n",
    "    Let us then focus on the single step propogator.\n",
    "</p>"
   ]
  },
  {
   "cell_type": "markdown",
   "metadata": {},
   "source": [
    "$\\large <x_1|\\psi(\\epsilon)> = \\psi(x_1,\\epsilon) = \\int dx_0 <x_1| e^{-\\frac{i}{\\hbar}\\hat{H}\\epsilon}|x_0>\\psi(x_0,0)$"
   ]
  },
  {
   "cell_type": "markdown",
   "metadata": {},
   "source": [
    "<p style=\"text-align: justify;font-size:15px\">  \n",
    "    We can use the Trotter approximation to write:\n",
    "</p>"
   ]
  },
  {
   "cell_type": "markdown",
   "metadata": {},
   "source": [
    "$\\large <x_1|e^{-\\frac{i}{\\hbar}\\hat{H}\\epsilon}|x_0> = <x_1|e^{-\\frac{i}{\\hbar}[\\frac{\\hat{P^2}}{2m}+E(\\hat{x})]\\epsilon}|x_0>\\approx <x_1|e^{-\\frac{i}{\\hbar}E(\\hat{x})\\epsilon/2}e^{-\\frac{i}{\\hbar}\\frac{\\hat{P^2}}{2m}\\epsilon}e^{-\\frac{i}{\\hbar}E(\\hat{x})\\epsilon/2}|x_0>$"
   ]
  },
  {
   "cell_type": "markdown",
   "metadata": {},
   "source": [
    "$\\large =e^{-\\frac{i}{\\hbar}E(\\hat{x})\\epsilon/2}\\int dp <x_1|e^{-\\frac{i}{\\hbar}\\frac{\\hat{P^2}}{2m}\\epsilon}|p><p|x_0>e^{-\\frac{i}{\\hbar}E(\\hat{x})\\epsilon/2}$"
   ]
  },
  {
   "cell_type": "markdown",
   "metadata": {},
   "source": [
    "where, $<p|x_0> = \\frac{1}{\\sqrt{2\\pi\\hbar}}e^{-\\frac{i}{\\hbar}Px_0}$"
   ]
  },
  {
   "cell_type": "markdown",
   "metadata": {},
   "source": [
    "$\\large \\psi(x_1,\\epsilon)=e^{-\\frac{1}{\\hbar}E(x_1)\\epsilon/2}\\int \\frac{dp}{\\sqrt{2\\pi\\hbar}}e^{\\frac{i}{\\hbar}px_1}e^{-\\frac{i}{\\hbar}\\frac{p^2}{2m}\\epsilon}\\underbrace{\\int \\frac{dx_0}{\\sqrt{2\\pi\\hbar}}e^{-\\frac{i}{\\hbar}px_0}\\underbrace{e^{-\\frac{i}{\\hbar}E(x_0)\\frac{\\epsilon}{2}}\\psi(x_0,0)}_{\\Phi_{\\frac{\\epsilon}{2}}(x_0)}}_{\\tilde{\\Phi}_{\\frac{\\epsilon}{2}}(p)}$"
   ]
  },
  {
   "cell_type": "markdown",
   "metadata": {},
   "source": [
    "$\\large \\psi(x_1,\\epsilon)=e^{-\\frac{1}{\\hbar}E(x_1)\\epsilon/2}\\underbrace{\\int \\frac{dp}{\\sqrt{2\\pi\\hbar}}e^{\\frac{i}{\\hbar}px_1}\\underbrace{e^{-\\frac{i}{\\hbar}\\frac{p^2}{2m}\\epsilon}\\tilde{\\Phi}_{\\frac{\\epsilon}{2}}(p)}_{\\tilde{\\Phi}(p)}}_{\\tilde{\\Phi}(x_1)}$"
   ]
  },
  {
   "cell_type": "markdown",
   "metadata": {},
   "source": [
    "<p style=\"text-align: justify;font-size:15px\">  \n",
    "    By interating N times, we can obtain $\\psi(x,t)$. In summary, the split operator fourier transfer\n",
    "    algorithm in five steps can be shown below:\n",
    "</p>"
   ]
  },
  {
   "cell_type": "markdown",
   "metadata": {},
   "source": [
    "<img src=\"./images/SOFT_algorithm.png\" style=\"height:250px;\">"
   ]
  },
  {
   "cell_type": "code",
   "execution_count": null,
   "metadata": {},
   "outputs": [],
   "source": []
  }
 ],
 "metadata": {
  "kernelspec": {
   "display_name": "Python 3 (ipykernel)",
   "language": "python",
   "name": "python3"
  },
  "language_info": {
   "codemirror_mode": {
    "name": "ipython",
    "version": 3
   },
   "file_extension": ".py",
   "mimetype": "text/x-python",
   "name": "python",
   "nbconvert_exporter": "python",
   "pygments_lexer": "ipython3",
   "version": "3.8.8"
  },
  "voila": {
   "authors": "Dou Du, Sara Bonella and Giovanni Pizzi"
  }
 },
 "nbformat": 4,
 "nbformat_minor": 4
}
